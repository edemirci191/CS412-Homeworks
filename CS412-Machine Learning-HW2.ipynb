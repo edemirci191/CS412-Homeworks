{
  "nbformat": 4,
  "nbformat_minor": 0,
  "metadata": {
    "colab": {
      "name": "hw2-demirci-emre.ipynb",
      "provenance": [],
      "collapsed_sections": []
    },
    "kernelspec": {
      "name": "python3",
      "display_name": "Python 3"
    }
  },
  "cells": [
    {
      "cell_type": "markdown",
      "metadata": {
        "id": "khfvm2ZTbxaF"
      },
      "source": [
        "# CS412 - Machine Learning - 2020\n",
        "\n",
        "# Homework 2\n",
        "\n",
        "100 pts\n",
        "\n",
        "# Goal\n",
        "\n",
        "The goal of this homework is to get familiar feature handling and cross validation.\n",
        "\n",
        "\n",
        "# Dataset\n",
        "\n",
        "German Credit Risk dataset, prepared by Prof. Hoffman, classifies each person as having a good or bad credit risk. The dataset that we use consists of both numerical and categorical features.\n",
        "\n",
        "\n",
        "\n",
        "# Task\n",
        "\n",
        "Build a k-NN classifier with scikit-learn library to classify people as bad or good risks for the german credit dataset. \n",
        "\n",
        "# Software\n",
        "\n",
        "Documentation for the necessary functions can be accessed from the link below.\n",
        "\n",
        "[http://scikit-learn.org/stable/supervised_learning.html](http://scikit-learn.org/stable/supervised_learning.html)\n",
        "\n",
        "# Submission\n",
        "\n",
        "Follow the instructions at the end.\n"
      ]
    },
    {
      "cell_type": "markdown",
      "metadata": {
        "id": "X9WhAm9Ii-SH"
      },
      "source": [
        "# 1) Initialize\n",
        "\n",
        "First, make a copy of this notebook in your drive"
      ]
    },
    {
      "cell_type": "code",
      "metadata": {
        "id": "V99blGJZ02tQ",
        "colab": {
          "base_uri": "https://localhost:8080/"
        },
        "outputId": "aa2b4b72-ef28-4e5b-df41-55e6f0f367e4"
      },
      "source": [
        "# Mount to your drive, in this way you can reach files that are in your drive\n",
        "# Run this cell\n",
        "# Go through the link that will be showed below\n",
        "# Select your google drive account and copy authorization code and paste here in output and press enter\n",
        "# You can also follow the steps from that link\n",
        "# https://medium.com/ml-book/simplest-way-to-open-files-from-google-drive-in-google-colab-fae14810674 \n",
        "\n",
        "from google.colab import drive\n",
        "drive.mount('/content/drive')"
      ],
      "execution_count": null,
      "outputs": [
        {
          "output_type": "stream",
          "text": [
            "Drive already mounted at /content/drive; to attempt to forcibly remount, call drive.mount(\"/content/drive\", force_remount=True).\n"
          ],
          "name": "stdout"
        }
      ]
    },
    {
      "cell_type": "markdown",
      "metadata": {
        "id": "fLcZp_XKjp2N"
      },
      "source": [
        "# 2) Load Dataset\n",
        "\n",
        "To start working for your homework, take a copy of the folder, given in the below link to your own google drive. You find the train and test data under this folder.\n",
        "\n",
        "[https://drive.google.com/drive/folders/1DbW6VxLKZv2oqFn9SwxAnVadmn1_nPXi?usp=sharing](https://drive.google.com/drive/folders/1DbW6VxLKZv2oqFn9SwxAnVadmn1_nPXi?usp=sharing)\n",
        "\n",
        "After copy the folder, copy the path of the train and test dataset to paste them in the below cell to load your data.\n"
      ]
    },
    {
      "cell_type": "code",
      "metadata": {
        "id": "jSZvqTSTbsv8"
      },
      "source": [
        "import pandas as pd\n",
        "from os.path import join\n",
        "path_prefix = \"/content/drive/My Drive\"\n",
        "\n",
        "train_df = pd.read_csv(join(path_prefix, 'german_credit_train.csv'))\n",
        "\n",
        "test_df = pd.read_csv(join(path_prefix, 'german_credit_test.csv'))"
      ],
      "execution_count": null,
      "outputs": []
    },
    {
      "cell_type": "markdown",
      "metadata": {
        "id": "q4PwZVkZkCZQ"
      },
      "source": [
        "# 3) Optional - Analyze the Dataset \n",
        "\n",
        "You can use the functions of the pandas library to analyze your train dataset in detail - **this part is OPTIONAL - look around the data as you wish**.\n",
        "\n",
        "\n",
        "*   Display the number of instances and features in the train ***(shape function can be used)**\n",
        "*   Display 5 random examples from the train ***(sample function can be used)**\n",
        "*   Display the information about each features ***(info method can be used)**\n",
        "\n"
      ]
    },
    {
      "cell_type": "code",
      "metadata": {
        "id": "-XdZUTLqkAw7",
        "colab": {
          "base_uri": "https://localhost:8080/",
          "height": 254
        },
        "outputId": "f620c0ee-1f2e-4650-8af0-d807c85f09d1"
      },
      "source": [
        "# Print shape\n",
        "print(\"Train data dimensionality: \", )\n",
        "print(train_df.shape)\n",
        "# Print random 5 rows\n",
        "print(\"Examples from train data: \")\n",
        "train_df.head(5)"
      ],
      "execution_count": null,
      "outputs": [
        {
          "output_type": "stream",
          "text": [
            "Train data dimensionality: \n",
            "(800, 13)\n",
            "Examples from train data: \n"
          ],
          "name": "stdout"
        },
        {
          "output_type": "execute_result",
          "data": {
            "text/html": [
              "<div>\n",
              "<style scoped>\n",
              "    .dataframe tbody tr th:only-of-type {\n",
              "        vertical-align: middle;\n",
              "    }\n",
              "\n",
              "    .dataframe tbody tr th {\n",
              "        vertical-align: top;\n",
              "    }\n",
              "\n",
              "    .dataframe thead th {\n",
              "        text-align: right;\n",
              "    }\n",
              "</style>\n",
              "<table border=\"1\" class=\"dataframe\">\n",
              "  <thead>\n",
              "    <tr style=\"text-align: right;\">\n",
              "      <th></th>\n",
              "      <th>AccountStatus</th>\n",
              "      <th>Duration</th>\n",
              "      <th>CreditHistory</th>\n",
              "      <th>CreditAmount</th>\n",
              "      <th>SavingsAccount</th>\n",
              "      <th>EmploymentSince</th>\n",
              "      <th>PercentOfIncome</th>\n",
              "      <th>PersonalStatus</th>\n",
              "      <th>Property</th>\n",
              "      <th>Age</th>\n",
              "      <th>OtherInstallPlans</th>\n",
              "      <th>Housing</th>\n",
              "      <th>Risk</th>\n",
              "    </tr>\n",
              "  </thead>\n",
              "  <tbody>\n",
              "    <tr>\n",
              "      <th>0</th>\n",
              "      <td>A14</td>\n",
              "      <td>12</td>\n",
              "      <td>A32</td>\n",
              "      <td>2859</td>\n",
              "      <td>A65</td>\n",
              "      <td>A71</td>\n",
              "      <td>4</td>\n",
              "      <td>A93</td>\n",
              "      <td>A124</td>\n",
              "      <td>38</td>\n",
              "      <td>A143</td>\n",
              "      <td>A152</td>\n",
              "      <td>1</td>\n",
              "    </tr>\n",
              "    <tr>\n",
              "      <th>1</th>\n",
              "      <td>A11</td>\n",
              "      <td>9</td>\n",
              "      <td>A32</td>\n",
              "      <td>2136</td>\n",
              "      <td>A61</td>\n",
              "      <td>A73</td>\n",
              "      <td>3</td>\n",
              "      <td>A93</td>\n",
              "      <td>A121</td>\n",
              "      <td>25</td>\n",
              "      <td>A143</td>\n",
              "      <td>A152</td>\n",
              "      <td>1</td>\n",
              "    </tr>\n",
              "    <tr>\n",
              "      <th>2</th>\n",
              "      <td>A11</td>\n",
              "      <td>18</td>\n",
              "      <td>A34</td>\n",
              "      <td>5302</td>\n",
              "      <td>A61</td>\n",
              "      <td>A75</td>\n",
              "      <td>2</td>\n",
              "      <td>A93</td>\n",
              "      <td>A124</td>\n",
              "      <td>36</td>\n",
              "      <td>A143</td>\n",
              "      <td>A153</td>\n",
              "      <td>1</td>\n",
              "    </tr>\n",
              "    <tr>\n",
              "      <th>3</th>\n",
              "      <td>A11</td>\n",
              "      <td>14</td>\n",
              "      <td>A32</td>\n",
              "      <td>8978</td>\n",
              "      <td>A61</td>\n",
              "      <td>A75</td>\n",
              "      <td>1</td>\n",
              "      <td>A91</td>\n",
              "      <td>A122</td>\n",
              "      <td>45</td>\n",
              "      <td>A143</td>\n",
              "      <td>A152</td>\n",
              "      <td>2</td>\n",
              "    </tr>\n",
              "    <tr>\n",
              "      <th>4</th>\n",
              "      <td>A14</td>\n",
              "      <td>15</td>\n",
              "      <td>A32</td>\n",
              "      <td>4623</td>\n",
              "      <td>A62</td>\n",
              "      <td>A73</td>\n",
              "      <td>3</td>\n",
              "      <td>A93</td>\n",
              "      <td>A122</td>\n",
              "      <td>40</td>\n",
              "      <td>A143</td>\n",
              "      <td>A152</td>\n",
              "      <td>2</td>\n",
              "    </tr>\n",
              "  </tbody>\n",
              "</table>\n",
              "</div>"
            ],
            "text/plain": [
              "  AccountStatus  Duration CreditHistory  ...  OtherInstallPlans Housing Risk\n",
              "0           A14        12           A32  ...               A143    A152    1\n",
              "1           A11         9           A32  ...               A143    A152    1\n",
              "2           A11        18           A34  ...               A143    A153    1\n",
              "3           A11        14           A32  ...               A143    A152    2\n",
              "4           A14        15           A32  ...               A143    A152    2\n",
              "\n",
              "[5 rows x 13 columns]"
            ]
          },
          "metadata": {
            "tags": []
          },
          "execution_count": 91
        }
      ]
    },
    {
      "cell_type": "code",
      "metadata": {
        "id": "NLL4s7GFsBVJ",
        "colab": {
          "base_uri": "https://localhost:8080/",
          "height": 311
        },
        "outputId": "4de86362-1159-4f4e-f1a4-a2743fa95f2d"
      },
      "source": [
        "# Print the information about the dataset\n",
        "print(\"Information about train data \", )\n",
        "train_df.describe()"
      ],
      "execution_count": null,
      "outputs": [
        {
          "output_type": "stream",
          "text": [
            "Information about train data \n"
          ],
          "name": "stdout"
        },
        {
          "output_type": "execute_result",
          "data": {
            "text/html": [
              "<div>\n",
              "<style scoped>\n",
              "    .dataframe tbody tr th:only-of-type {\n",
              "        vertical-align: middle;\n",
              "    }\n",
              "\n",
              "    .dataframe tbody tr th {\n",
              "        vertical-align: top;\n",
              "    }\n",
              "\n",
              "    .dataframe thead th {\n",
              "        text-align: right;\n",
              "    }\n",
              "</style>\n",
              "<table border=\"1\" class=\"dataframe\">\n",
              "  <thead>\n",
              "    <tr style=\"text-align: right;\">\n",
              "      <th></th>\n",
              "      <th>Duration</th>\n",
              "      <th>CreditAmount</th>\n",
              "      <th>PercentOfIncome</th>\n",
              "      <th>Age</th>\n",
              "      <th>Risk</th>\n",
              "    </tr>\n",
              "  </thead>\n",
              "  <tbody>\n",
              "    <tr>\n",
              "      <th>count</th>\n",
              "      <td>800.000000</td>\n",
              "      <td>800.000000</td>\n",
              "      <td>800.000000</td>\n",
              "      <td>800.00000</td>\n",
              "      <td>800.000000</td>\n",
              "    </tr>\n",
              "    <tr>\n",
              "      <th>mean</th>\n",
              "      <td>20.798750</td>\n",
              "      <td>3262.982500</td>\n",
              "      <td>2.961250</td>\n",
              "      <td>35.76875</td>\n",
              "      <td>1.290000</td>\n",
              "    </tr>\n",
              "    <tr>\n",
              "      <th>std</th>\n",
              "      <td>12.156911</td>\n",
              "      <td>2811.138736</td>\n",
              "      <td>1.119739</td>\n",
              "      <td>11.54109</td>\n",
              "      <td>0.454046</td>\n",
              "    </tr>\n",
              "    <tr>\n",
              "      <th>min</th>\n",
              "      <td>4.000000</td>\n",
              "      <td>250.000000</td>\n",
              "      <td>1.000000</td>\n",
              "      <td>19.00000</td>\n",
              "      <td>1.000000</td>\n",
              "    </tr>\n",
              "    <tr>\n",
              "      <th>25%</th>\n",
              "      <td>12.000000</td>\n",
              "      <td>1373.500000</td>\n",
              "      <td>2.000000</td>\n",
              "      <td>27.00000</td>\n",
              "      <td>1.000000</td>\n",
              "    </tr>\n",
              "    <tr>\n",
              "      <th>50%</th>\n",
              "      <td>18.000000</td>\n",
              "      <td>2321.500000</td>\n",
              "      <td>3.000000</td>\n",
              "      <td>33.00000</td>\n",
              "      <td>1.000000</td>\n",
              "    </tr>\n",
              "    <tr>\n",
              "      <th>75%</th>\n",
              "      <td>24.000000</td>\n",
              "      <td>3972.250000</td>\n",
              "      <td>4.000000</td>\n",
              "      <td>42.00000</td>\n",
              "      <td>2.000000</td>\n",
              "    </tr>\n",
              "    <tr>\n",
              "      <th>max</th>\n",
              "      <td>72.000000</td>\n",
              "      <td>18424.000000</td>\n",
              "      <td>4.000000</td>\n",
              "      <td>75.00000</td>\n",
              "      <td>2.000000</td>\n",
              "    </tr>\n",
              "  </tbody>\n",
              "</table>\n",
              "</div>"
            ],
            "text/plain": [
              "         Duration  CreditAmount  PercentOfIncome        Age        Risk\n",
              "count  800.000000    800.000000       800.000000  800.00000  800.000000\n",
              "mean    20.798750   3262.982500         2.961250   35.76875    1.290000\n",
              "std     12.156911   2811.138736         1.119739   11.54109    0.454046\n",
              "min      4.000000    250.000000         1.000000   19.00000    1.000000\n",
              "25%     12.000000   1373.500000         2.000000   27.00000    1.000000\n",
              "50%     18.000000   2321.500000         3.000000   33.00000    1.000000\n",
              "75%     24.000000   3972.250000         4.000000   42.00000    2.000000\n",
              "max     72.000000  18424.000000         4.000000   75.00000    2.000000"
            ]
          },
          "metadata": {
            "tags": []
          },
          "execution_count": 92
        }
      ]
    },
    {
      "cell_type": "markdown",
      "metadata": {
        "id": "_yVSSt0mtH0W"
      },
      "source": [
        "# 4) Define your train and test labels\n",
        "\n",
        "*  Define labels for both train and test data in new arrays \n",
        "*  And remove the label column from both train and test sets do tht it is not used as a feature! \n",
        "\n",
        "\n",
        "(**you can use pop method**)\n"
      ]
    },
    {
      "cell_type": "code",
      "metadata": {
        "id": "heg3V6IssehF"
      },
      "source": [
        "# Define labels\n",
        "\n",
        "train_label = train_df.pop('Risk')\n",
        "test_label = test_df.pop('Risk')"
      ],
      "execution_count": null,
      "outputs": []
    },
    {
      "cell_type": "markdown",
      "metadata": {
        "id": "LGw3v-ai4jTN"
      },
      "source": [
        "# 5) Handle missing values if any \n",
        "\n",
        "*   Print the columns that have **NaN** values (**isnull** method can be used)\n",
        "*   You can impute missing values with mode of that feature or remove samples or attributes\n",
        "*   To impute the test set, you should use the mode values that you obtain from **train** set, as **you should not be looking at your test data to gain any information or advantage.**\n",
        "\n"
      ]
    },
    {
      "cell_type": "code",
      "metadata": {
        "id": "8TNKte7c8EpR",
        "colab": {
          "base_uri": "https://localhost:8080/"
        },
        "outputId": "a1708d40-602a-4afa-c189-bd018d31561a"
      },
      "source": [
        "# Print columns with NaN values\n",
        "print(train_df.isna().any())\n",
        "print(\"                   \")\n",
        "print(test_df.isna().any())"
      ],
      "execution_count": null,
      "outputs": [
        {
          "output_type": "stream",
          "text": [
            "AccountStatus        False\n",
            "Duration             False\n",
            "CreditHistory        False\n",
            "CreditAmount         False\n",
            "SavingsAccount       False\n",
            "EmploymentSince      False\n",
            "PercentOfIncome      False\n",
            "PersonalStatus       False\n",
            "Property             False\n",
            "Age                  False\n",
            "OtherInstallPlans    False\n",
            "Housing               True\n",
            "dtype: bool\n",
            "                   \n",
            "AccountStatus        False\n",
            "Duration             False\n",
            "CreditHistory        False\n",
            "CreditAmount         False\n",
            "SavingsAccount       False\n",
            "EmploymentSince      False\n",
            "PercentOfIncome      False\n",
            "PersonalStatus       False\n",
            "Property             False\n",
            "Age                  False\n",
            "OtherInstallPlans    False\n",
            "Housing               True\n",
            "dtype: bool\n"
          ],
          "name": "stdout"
        }
      ]
    },
    {
      "cell_type": "code",
      "metadata": {
        "id": "Hd6s66xKLEiO",
        "colab": {
          "base_uri": "https://localhost:8080/",
          "height": 202
        },
        "outputId": "bd6853b9-f23d-4665-8f2b-a50b2e68fe85"
      },
      "source": [
        "# Impute missing values by replacing with mode value\n",
        "\n",
        "#For train set\n",
        "train_df['AccountStatus'] = train_df['AccountStatus'].fillna(train_df['AccountStatus'].mode()[0])\n",
        "train_df['Duration'] = train_df['Duration'].fillna(train_df['Duration'].mode()[0])\n",
        "train_df['CreditHistory'] = train_df['CreditHistory'].fillna(train_df['CreditHistory'].mode()[0])\n",
        "train_df['CreditAmount'] = train_df['CreditAmount'].fillna(train_df['CreditAmount'].mode()[0])\n",
        "train_df['SavingsAccount'] = train_df['SavingsAccount'].fillna(train_df['SavingsAccount'].mode()[0])\n",
        "train_df['EmploymentSince'] = train_df['EmploymentSince'].fillna(train_df['EmploymentSince'].mode()[0])\n",
        "train_df['PercentOfIncome'] = train_df['PercentOfIncome'].fillna(train_df['PercentOfIncome'].mode()[0])\n",
        "train_df['Property'] = train_df['Property'].fillna(train_df['Property'].mode()[0])\n",
        "train_df['Age'] = train_df['Age'].fillna(train_df['Age'].mode()[0])\n",
        "train_df['OtherInstallPlans'] = train_df['OtherInstallPlans'].fillna(train_df['OtherInstallPlans'].mode()[0])\n",
        "train_df['Housing'] = train_df['Housing'].fillna(train_df['Housing'].mode()[0])\n",
        "\n",
        "# For test set but using train set\n",
        "test_df['AccountStatus'] = test_df['AccountStatus'].fillna(train_df['AccountStatus'].mode()[0])\n",
        "test_df['Duration'] = test_df['Duration'].fillna(train_df['Duration'].mode()[0])\n",
        "test_df['CreditHistory'] = test_df['CreditHistory'].fillna(train_df['CreditHistory'].mode()[0])\n",
        "test_df['CreditAmount'] = test_df['CreditAmount'].fillna(train_df['CreditAmount'].mode()[0])\n",
        "test_df['SavingsAccount'] = test_df['SavingsAccount'].fillna(train_df['SavingsAccount'].mode()[0])\n",
        "test_df['EmploymentSince'] = test_df['EmploymentSince'].fillna(train_df['EmploymentSince'].mode()[0])\n",
        "test_df['PercentOfIncome'] = test_df['PercentOfIncome'].fillna(train_df['PercentOfIncome'].mode()[0])\n",
        "test_df['Property'] = test_df['Property'].fillna(train_df['Property'].mode()[0])\n",
        "test_df['Age'] = test_df['Age'].fillna(train_df['Age'].mode()[0])\n",
        "test_df['OtherInstallPlans'] = test_df['OtherInstallPlans'].fillna(train_df['OtherInstallPlans'].mode()[0])\n",
        "test_df['Housing'] = test_df['Housing'].fillna(train_df['Housing'].mode()[0])\n",
        "\n",
        "\n",
        "\n",
        "\n",
        "train_df.head()\n",
        "\n",
        "\n",
        "\n",
        "\n"
      ],
      "execution_count": null,
      "outputs": [
        {
          "output_type": "execute_result",
          "data": {
            "text/html": [
              "<div>\n",
              "<style scoped>\n",
              "    .dataframe tbody tr th:only-of-type {\n",
              "        vertical-align: middle;\n",
              "    }\n",
              "\n",
              "    .dataframe tbody tr th {\n",
              "        vertical-align: top;\n",
              "    }\n",
              "\n",
              "    .dataframe thead th {\n",
              "        text-align: right;\n",
              "    }\n",
              "</style>\n",
              "<table border=\"1\" class=\"dataframe\">\n",
              "  <thead>\n",
              "    <tr style=\"text-align: right;\">\n",
              "      <th></th>\n",
              "      <th>AccountStatus</th>\n",
              "      <th>Duration</th>\n",
              "      <th>CreditHistory</th>\n",
              "      <th>CreditAmount</th>\n",
              "      <th>SavingsAccount</th>\n",
              "      <th>EmploymentSince</th>\n",
              "      <th>PercentOfIncome</th>\n",
              "      <th>PersonalStatus</th>\n",
              "      <th>Property</th>\n",
              "      <th>Age</th>\n",
              "      <th>OtherInstallPlans</th>\n",
              "      <th>Housing</th>\n",
              "    </tr>\n",
              "  </thead>\n",
              "  <tbody>\n",
              "    <tr>\n",
              "      <th>0</th>\n",
              "      <td>A14</td>\n",
              "      <td>12</td>\n",
              "      <td>A32</td>\n",
              "      <td>2859</td>\n",
              "      <td>A65</td>\n",
              "      <td>A71</td>\n",
              "      <td>4</td>\n",
              "      <td>A93</td>\n",
              "      <td>A124</td>\n",
              "      <td>38</td>\n",
              "      <td>A143</td>\n",
              "      <td>A152</td>\n",
              "    </tr>\n",
              "    <tr>\n",
              "      <th>1</th>\n",
              "      <td>A11</td>\n",
              "      <td>9</td>\n",
              "      <td>A32</td>\n",
              "      <td>2136</td>\n",
              "      <td>A61</td>\n",
              "      <td>A73</td>\n",
              "      <td>3</td>\n",
              "      <td>A93</td>\n",
              "      <td>A121</td>\n",
              "      <td>25</td>\n",
              "      <td>A143</td>\n",
              "      <td>A152</td>\n",
              "    </tr>\n",
              "    <tr>\n",
              "      <th>2</th>\n",
              "      <td>A11</td>\n",
              "      <td>18</td>\n",
              "      <td>A34</td>\n",
              "      <td>5302</td>\n",
              "      <td>A61</td>\n",
              "      <td>A75</td>\n",
              "      <td>2</td>\n",
              "      <td>A93</td>\n",
              "      <td>A124</td>\n",
              "      <td>36</td>\n",
              "      <td>A143</td>\n",
              "      <td>A153</td>\n",
              "    </tr>\n",
              "    <tr>\n",
              "      <th>3</th>\n",
              "      <td>A11</td>\n",
              "      <td>14</td>\n",
              "      <td>A32</td>\n",
              "      <td>8978</td>\n",
              "      <td>A61</td>\n",
              "      <td>A75</td>\n",
              "      <td>1</td>\n",
              "      <td>A91</td>\n",
              "      <td>A122</td>\n",
              "      <td>45</td>\n",
              "      <td>A143</td>\n",
              "      <td>A152</td>\n",
              "    </tr>\n",
              "    <tr>\n",
              "      <th>4</th>\n",
              "      <td>A14</td>\n",
              "      <td>15</td>\n",
              "      <td>A32</td>\n",
              "      <td>4623</td>\n",
              "      <td>A62</td>\n",
              "      <td>A73</td>\n",
              "      <td>3</td>\n",
              "      <td>A93</td>\n",
              "      <td>A122</td>\n",
              "      <td>40</td>\n",
              "      <td>A143</td>\n",
              "      <td>A152</td>\n",
              "    </tr>\n",
              "  </tbody>\n",
              "</table>\n",
              "</div>"
            ],
            "text/plain": [
              "  AccountStatus  Duration CreditHistory  ...  Age OtherInstallPlans Housing\n",
              "0           A14        12           A32  ...   38              A143    A152\n",
              "1           A11         9           A32  ...   25              A143    A152\n",
              "2           A11        18           A34  ...   36              A143    A153\n",
              "3           A11        14           A32  ...   45              A143    A152\n",
              "4           A14        15           A32  ...   40              A143    A152\n",
              "\n",
              "[5 rows x 12 columns]"
            ]
          },
          "metadata": {
            "tags": []
          },
          "execution_count": 96
        }
      ]
    },
    {
      "cell_type": "code",
      "metadata": {
        "id": "uL-1MZkPezJ_",
        "colab": {
          "base_uri": "https://localhost:8080/"
        },
        "outputId": "5cc675cd-8e1d-4de5-a16c-82ef6be45592"
      },
      "source": [
        "print(train_df.isnull().sum())\n",
        "print(\"\")\n",
        "print(test_df.isnull().sum())"
      ],
      "execution_count": null,
      "outputs": [
        {
          "output_type": "stream",
          "text": [
            "AccountStatus        0\n",
            "Duration             0\n",
            "CreditHistory        0\n",
            "CreditAmount         0\n",
            "SavingsAccount       0\n",
            "EmploymentSince      0\n",
            "PercentOfIncome      0\n",
            "PersonalStatus       0\n",
            "Property             0\n",
            "Age                  0\n",
            "OtherInstallPlans    0\n",
            "Housing              0\n",
            "dtype: int64\n",
            "\n",
            "AccountStatus        0\n",
            "Duration             0\n",
            "CreditHistory        0\n",
            "CreditAmount         0\n",
            "SavingsAccount       0\n",
            "EmploymentSince      0\n",
            "PercentOfIncome      0\n",
            "PersonalStatus       0\n",
            "Property             0\n",
            "Age                  0\n",
            "OtherInstallPlans    0\n",
            "Housing              0\n",
            "dtype: int64\n"
          ],
          "name": "stdout"
        }
      ]
    },
    {
      "cell_type": "markdown",
      "metadata": {
        "id": "KkgqFpyr2BrX"
      },
      "source": [
        "# 6) Transform categorical / ordinal features\n",
        "\n",
        "* Transform all categorical / ordinal features using the methods that you have learnt in lectures and recitation 4 for both train and test data\n",
        "* You saw the dictionary use for mapping in recitation. (You can use **replace function** to assign new values to the categories of a column).\n",
        "\n",
        "*  The class of the categorical attributes in the dataset are defined as follows:\n",
        "  - Status of existing checking account\n",
        "     - A11 :      ... <    0 DM\n",
        "\t- A12 : 0 <= ... <  200 DM\n",
        "\t- A13 :      ... >= 200 DM / salary assignments for at least 1 year\n",
        "     - A14 : no checking account\n",
        "\n",
        " - Credit history\n",
        "    - A30 : no credits taken/all credits paid back duly\n",
        "    - A31 : all credits at this bank paid back duly\n",
        "\t- A32 : existing credits paid back duly till now\n",
        "    - A33 : delay in paying off in the past\n",
        "\t- A34 : critical account/other credits existing (not at this bank)\n",
        "\n",
        "  - Savings account\n",
        "    - A61 :          ... <  100 DM\n",
        "\t- A62 :   100 <= ... <  500 DM\n",
        "\t- A63 :   500 <= ... < 1000 DM\n",
        "\t- A64 :          .. >= 1000 DM\n",
        "    - A65 :   unknown/ no savings account\n",
        "\n",
        " - Employment Since\n",
        "    - A71 : unemployed\n",
        "    - A72 :       ... < 1 year\n",
        "\t- A73 : 1  <= ... < 4 years  \n",
        "\t- A74 : 4  <= ... < 7 years\n",
        "\t- A75 :       .. >= 7 years\n",
        " \n",
        " - Personal Status\n",
        "    - A91 : male   : divorced/separated\n",
        "\t- A92 : female : divorced/separated/married\n",
        "    - A93 : male   : single\n",
        "\t- A94 : male   : married/widowed\n",
        "\t- A95 : female : single\n",
        "\n",
        "  - Property\n",
        "     -  A121 : real estate\n",
        "\t- A122 : if not A121 : building society savings agreement/life insurance\n",
        "    - A123 : if not A121/A122 : car or other, not in attribute 6\n",
        "\t- A124 : unknown / no property\n",
        "\n",
        " - OtherInstallPlans  \n",
        "    - A141 : bank\n",
        "\t- A142 : stores\n",
        "\t- A143 : none\n",
        "\n",
        " - Housing\n",
        "    -  A151 : rent\n",
        "\t - A152 : own\n",
        "\t- A153 : for free"
      ]
    },
    {
      "cell_type": "code",
      "metadata": {
        "id": "Evng6_DyYevs",
        "colab": {
          "base_uri": "https://localhost:8080/",
          "height": 219
        },
        "outputId": "e6dc48d0-015a-4de0-bd7d-43909d03bdd6"
      },
      "source": [
        "# Transform the categorical / ordinal attributes\n",
        "checking_accounts_map = {'A11':0,'A12':1,'A13':2,'A14':3}\n",
        "train_df['AccountStatus'] = train_df['AccountStatus'].replace(checking_accounts_map)\n",
        "\n",
        "credit_history_map = {'A30':0,'A31':1,'A32':2,'A33':3, 'A34':4}\n",
        "train_df['CreditHistory'] = train_df['CreditHistory'].replace(credit_history_map)\n",
        "\n",
        "savings_map = {'A61':0,'A62':1,'A63':2,'A64':3, 'A65':4}\n",
        "train_df['SavingsAccount'] = train_df['SavingsAccount'].replace(savings_map)\n",
        "\n",
        "employement_since_map = {'A71':0,'A72':1,'A73':2,'A74':3, 'A75':4}\n",
        "train_df['EmploymentSince'] = train_df['EmploymentSince'].replace(employement_since_map)\n",
        "\n",
        "personal_status_map = {'A91':0,'A92':1,'A93':2,'A94':3, 'A95':4}\n",
        "train_df['PersonalStatus'] = train_df['PersonalStatus'].replace(personal_status_map)\n",
        "\n",
        "property_map = {'A121':0,'A122':1,'A123':2,'A124':3}\n",
        "train_df['Property'] = train_df['Property'].replace(property_map)\n",
        "\n",
        "OtherInstallPlans_map = {'A141':0,'A142':1, 'A143':3}\n",
        "train_df['OtherInstallPlans'] = train_df['OtherInstallPlans'].replace(OtherInstallPlans_map)\n",
        "\n",
        "Housing_map = {'A151':0,'A152':1,'A153':2}\n",
        "train_df['Housing'] = train_df['Housing'].replace(Housing_map)\n",
        "\n",
        "\n",
        "test_df['AccountStatus'] = test_df['AccountStatus'].replace(checking_accounts_map)\n",
        "test_df['CreditHistory'] = test_df['CreditHistory'].replace(credit_history_map)\n",
        "test_df['SavingsAccount'] = test_df['SavingsAccount'].replace(savings_map)\n",
        "test_df['EmploymentSince'] = test_df['EmploymentSince'].replace(employement_since_map)\n",
        "test_df['PersonalStatus'] = test_df['PersonalStatus'].replace(personal_status_map)\n",
        "test_df['Property'] = test_df['Property'].replace(property_map)\n",
        "test_df['OtherInstallPlans'] = test_df['OtherInstallPlans'].replace(OtherInstallPlans_map)\n",
        "test_df['Housing'] = test_df['Housing'].replace(Housing_map)\n",
        "\n",
        "print(\"Transforming completed without any errors\")\n",
        "train_df.head()"
      ],
      "execution_count": null,
      "outputs": [
        {
          "output_type": "stream",
          "text": [
            "Transforming completed without any errors\n"
          ],
          "name": "stdout"
        },
        {
          "output_type": "execute_result",
          "data": {
            "text/html": [
              "<div>\n",
              "<style scoped>\n",
              "    .dataframe tbody tr th:only-of-type {\n",
              "        vertical-align: middle;\n",
              "    }\n",
              "\n",
              "    .dataframe tbody tr th {\n",
              "        vertical-align: top;\n",
              "    }\n",
              "\n",
              "    .dataframe thead th {\n",
              "        text-align: right;\n",
              "    }\n",
              "</style>\n",
              "<table border=\"1\" class=\"dataframe\">\n",
              "  <thead>\n",
              "    <tr style=\"text-align: right;\">\n",
              "      <th></th>\n",
              "      <th>AccountStatus</th>\n",
              "      <th>Duration</th>\n",
              "      <th>CreditHistory</th>\n",
              "      <th>CreditAmount</th>\n",
              "      <th>SavingsAccount</th>\n",
              "      <th>EmploymentSince</th>\n",
              "      <th>PercentOfIncome</th>\n",
              "      <th>PersonalStatus</th>\n",
              "      <th>Property</th>\n",
              "      <th>Age</th>\n",
              "      <th>OtherInstallPlans</th>\n",
              "      <th>Housing</th>\n",
              "    </tr>\n",
              "  </thead>\n",
              "  <tbody>\n",
              "    <tr>\n",
              "      <th>0</th>\n",
              "      <td>3</td>\n",
              "      <td>12</td>\n",
              "      <td>2</td>\n",
              "      <td>2859</td>\n",
              "      <td>4</td>\n",
              "      <td>0</td>\n",
              "      <td>4</td>\n",
              "      <td>2</td>\n",
              "      <td>3</td>\n",
              "      <td>38</td>\n",
              "      <td>3</td>\n",
              "      <td>1</td>\n",
              "    </tr>\n",
              "    <tr>\n",
              "      <th>1</th>\n",
              "      <td>0</td>\n",
              "      <td>9</td>\n",
              "      <td>2</td>\n",
              "      <td>2136</td>\n",
              "      <td>0</td>\n",
              "      <td>2</td>\n",
              "      <td>3</td>\n",
              "      <td>2</td>\n",
              "      <td>0</td>\n",
              "      <td>25</td>\n",
              "      <td>3</td>\n",
              "      <td>1</td>\n",
              "    </tr>\n",
              "    <tr>\n",
              "      <th>2</th>\n",
              "      <td>0</td>\n",
              "      <td>18</td>\n",
              "      <td>4</td>\n",
              "      <td>5302</td>\n",
              "      <td>0</td>\n",
              "      <td>4</td>\n",
              "      <td>2</td>\n",
              "      <td>2</td>\n",
              "      <td>3</td>\n",
              "      <td>36</td>\n",
              "      <td>3</td>\n",
              "      <td>2</td>\n",
              "    </tr>\n",
              "    <tr>\n",
              "      <th>3</th>\n",
              "      <td>0</td>\n",
              "      <td>14</td>\n",
              "      <td>2</td>\n",
              "      <td>8978</td>\n",
              "      <td>0</td>\n",
              "      <td>4</td>\n",
              "      <td>1</td>\n",
              "      <td>0</td>\n",
              "      <td>1</td>\n",
              "      <td>45</td>\n",
              "      <td>3</td>\n",
              "      <td>1</td>\n",
              "    </tr>\n",
              "    <tr>\n",
              "      <th>4</th>\n",
              "      <td>3</td>\n",
              "      <td>15</td>\n",
              "      <td>2</td>\n",
              "      <td>4623</td>\n",
              "      <td>1</td>\n",
              "      <td>2</td>\n",
              "      <td>3</td>\n",
              "      <td>2</td>\n",
              "      <td>1</td>\n",
              "      <td>40</td>\n",
              "      <td>3</td>\n",
              "      <td>1</td>\n",
              "    </tr>\n",
              "  </tbody>\n",
              "</table>\n",
              "</div>"
            ],
            "text/plain": [
              "   AccountStatus  Duration  CreditHistory  ...  Age  OtherInstallPlans  Housing\n",
              "0              3        12              2  ...   38                  3        1\n",
              "1              0         9              2  ...   25                  3        1\n",
              "2              0        18              4  ...   36                  3        2\n",
              "3              0        14              2  ...   45                  3        1\n",
              "4              3        15              2  ...   40                  3        1\n",
              "\n",
              "[5 rows x 12 columns]"
            ]
          },
          "metadata": {
            "tags": []
          },
          "execution_count": 98
        }
      ]
    },
    {
      "cell_type": "markdown",
      "metadata": {
        "id": "eVcTCh9-AnFv"
      },
      "source": [
        "# 7) Build a k-NN classifier on training data and perform models selection using 5 fold cross validation\n",
        "\n",
        "*  Initialize k-NN classifiers with **k= 5, 10, 15**\n",
        "*  Calculate the cross validation scores using cross_al_score method, number of folds is 5. \n",
        "*  Note: Xval is performed on training data! Do not use test data in any way and do not separate a hold-out validation set, rather use cross-validation.\n",
        "\n",
        "Documentation of the cross_val_score method:\n",
        "\n",
        "[https://scikit-learn.org/stable/modules/generated/sklearn.model_selection.cross_val_score.html#sklearn.model_selection.cross_val_score](https://scikit-learn.org/stable/modules/generated/sklearn.model_selection.cross_val_score.html#sklearn.model_selection.cross_val_score)\n",
        "\n",
        "*  Stores the average accuracies of these folds\n",
        "*  Select the value of k using the cross validation results. "
      ]
    },
    {
      "cell_type": "code",
      "metadata": {
        "id": "ficAs0W52b8r",
        "colab": {
          "base_uri": "https://localhost:8080/"
        },
        "outputId": "253e1268-ea8e-49cf-a481-1e1ba0f266b0"
      },
      "source": [
        "from sklearn.neighbors import KNeighborsClassifier\n",
        "from sklearn.model_selection import cross_val_score\n",
        "from statistics import mean\n",
        "\n",
        "# k values\n",
        "kVals = [5,10,15]\n",
        "\n",
        "# Save the accuracies of each value of kVal in [accuracies] variable\n",
        "accuracies = []\n",
        "\n",
        "# Loop over values of k for the k-Nearest Neighbor classifier\n",
        "for k in kVals:\n",
        "  # Initialize a k-NN classifier with k neighbors\n",
        "  knn = KNeighborsClassifier(n_neighbors=k)\n",
        "  scores = cross_val_score(knn, train_df, train_label, cv=5, scoring='accuracy')\n",
        "  # Calculate the 5 fold cross validation scores using cross_val_score\n",
        "  # cv parameter: number of folds, in our case it must be 5\n",
        "  # Stores the average accuracies of the scores in accuracies variable, you can use mean method\n",
        "  accuracies.append(scores.mean())\n",
        "\n",
        "print(accuracies)"
      ],
      "execution_count": null,
      "outputs": [
        {
          "output_type": "stream",
          "text": [
            "[0.68, 0.7074999999999999, 0.7100000000000001]\n"
          ],
          "name": "stdout"
        }
      ]
    },
    {
      "cell_type": "markdown",
      "metadata": {
        "id": "_t4ss1Ixglor"
      },
      "source": [
        "# 8) Retrain using all training data and test on test set\n",
        "\n",
        "* Train a classifier with the chosen k value of the best classifier using **all training data**. \n",
        "\n",
        "Note:  k-NN training involves no explicit training, but this is what we would do after model selection with decision trees or any other ML approach (we had 5 diff. models -one for each fold - for each k in the previous step - dont know which one to submit. Even if we picked the best one, it does not use all training samples.\n",
        "\n",
        "* Predict the labels of testing data \n",
        "\n",
        "* Report the accuracy "
      ]
    },
    {
      "cell_type": "code",
      "metadata": {
        "id": "Qi3pfvaBKTcg",
        "colab": {
          "base_uri": "https://localhost:8080/"
        },
        "outputId": "3707a5c6-99ef-4af6-b0c6-547bac6520d7"
      },
      "source": [
        "from sklearn.metrics import accuracy_score\n",
        "\n",
        "# Train the best classifier using all training set\n",
        "best_kVal = 15\n",
        "best_knn = KNeighborsClassifier(n_neighbors= best_kVal)\n",
        "best_knn.fit(train_df,train_label)\n",
        "\n",
        "# Estimate the prediction of the test data\n",
        "y_pred_test = best_knn.predict(test_df)\n",
        "\n",
        "# Print accuracy of test data\n",
        "print('Accuracy of test data:', accuracy_score(test_label, y_pred_test))\n"
      ],
      "execution_count": null,
      "outputs": [
        {
          "output_type": "stream",
          "text": [
            "Accuracy of test data: 0.665\n"
          ],
          "name": "stdout"
        }
      ]
    },
    {
      "cell_type": "markdown",
      "metadata": {
        "id": "N4ZCEjEXiMGi"
      },
      "source": [
        "# 9) Bonus (5pts)\n",
        "\n",
        "There is a limited bonus for any extra work that you may use and improve the above results. \n",
        "\n",
        "You may try a larger k values, scale input features, remove some features, .... Please **do not overdo**, maybe spend another 30-60min on this. The idea is not do an exhaustive search (which wont help your understanding of ML process), but just to give some extra points to those who may look at the problem a little more comprehensively. \n",
        "\n",
        "**If you obtain better results than the above, please indicate the best model you have found and the corresponding accuracy.**\n",
        "\n",
        "E.g. using feature normalization ..... and removing .... features and using a value k=...., I have obtained ....% accuracy.\n"
      ]
    },
    {
      "cell_type": "code",
      "metadata": {
        "id": "eTnB4ZMviQGV",
        "colab": {
          "base_uri": "https://localhost:8080/",
          "height": 456
        },
        "outputId": "b44c770c-f4a9-46ac-f37d-fa3bcb079805"
      },
      "source": [
        "import numpy as np\n",
        "import matplotlib.pyplot as plt\n",
        "\n",
        "model1 = KNeighborsClassifier(best_kVal, metric = 'euclidean')\n",
        "model2 = KNeighborsClassifier(best_kVal, metric = 'cityblock')\n",
        "model3 = KNeighborsClassifier(best_kVal, metric = 'chebyshev')\n",
        "\n",
        "model1.fit(train_df,train_label)\n",
        "model2.fit(train_df,train_label)\n",
        "model3.fit(train_df,train_label)\n",
        "\n",
        "y_pred_test1 = model1.predict(test_df)\n",
        "y_pred_test2 = model2.predict(test_df)\n",
        "y_pred_test3 = model3.predict(test_df)\n",
        "print('Accuracy of model 1 on test data :', accuracy_score(test_label, y_pred_test1))\n",
        "print('Accuracy of model 2 on test data:', accuracy_score(test_label, y_pred_test2))\n",
        "print('Accuracy of model 3 on test data:', accuracy_score(test_label, y_pred_test3))\n",
        "\n",
        "#changing distance metrices did not affect accuracy scores\n",
        "\n",
        "# Here, we used hyperparameter tuning for the hyperparameter k in kNN\n",
        "# Maybe if we choose K different than other 3 values it can give higher accuracies lets check\n",
        "K_range = np.arange(1, 20)\n",
        "accuracy_list = []\n",
        "\n",
        "for k in K_range:\n",
        "  # create a new model with current K\n",
        "  knn = KNeighborsClassifier(k, metric=\"cityblock\") \n",
        "  # fit training data\n",
        "  knn.fit(train_df, train_label)\n",
        "  # predict the validation data\n",
        "  y_pred = knn.predict(test_df)\n",
        "  # obtain the accuracy value\n",
        "  accuracy = accuracy_score(test_label, y_pred)\n",
        "  accuracy_list.append(accuracy)\n",
        "\n",
        "plt.figure(figsize=(12, 6))  \n",
        "plt.plot(K_range, accuracy_list, color='black', linestyle='dashed', marker='o',  \n",
        "         markerfacecolor='red', markersize=10)\n",
        "plt.title('Accuracies w/ K')  \n",
        "plt.xlabel('K')  \n",
        "plt.ylabel('Accuracy')\n",
        "plt.xticks(K_range)\n",
        "plt.grid()\n",
        "plt.show()\n",
        "# As it can be seen choosing k equals 10 gives higher accuracy scores in test case\n"
      ],
      "execution_count": null,
      "outputs": [
        {
          "output_type": "stream",
          "text": [
            "Accuracy of model 1 on test data : 0.665\n",
            "Accuracy of model 2 on test data: 0.665\n",
            "Accuracy of model 3 on test data: 0.665\n"
          ],
          "name": "stdout"
        },
        {
          "output_type": "display_data",
          "data": {
            "image/png": "[encoded data removed]",
            "text/plain": [
              "<Figure size 864x432 with 1 Axes>"
            ]
          },
          "metadata": {
            "tags": [],
            "needs_background": "light"
          }
        }
      ]
    },
    {
      "cell_type": "markdown",
      "metadata": {
        "id": "rTZBtnwDGgZP"
      },
      "source": [
        "** choosing k = 10 gives higher accuracies in test prediction unlike training label prediction, I have obtained a little more than %68.5 accuraccy when using k = 10 it can be seen in the above graph. Without using it( using the k value 15) i got %66.5 accuracy. The reason i used k = 15 before because it was provided me the highest accuracy in train set.**"
      ]
    },
    {
      "cell_type": "markdown",
      "metadata": {
        "id": "C5AuzuKliQiY"
      },
      "source": [
        "# 10) Notebook & Report\n",
        "\n",
        "**Notebook:** We may just look at your notebook results; so make sure each cell is run and outputs are there.\n",
        "\n",
        "**Report:** Write an at most 1/2 page summary of your approach to this problem at the end of your notebook; this should be like an abstract of a paper or the executive summary.\n",
        "\n",
        "**Must include statements such as:**\n",
        "\n",
        "( Include the problem definition: 1-2 lines )\n",
        "\n",
        "(Talk about any preprocessing you do, How you handle missing values and categorical features)\n",
        "\n",
        "( Give the average validation accuracies for different k values and standard deviations between 5 folds of each k values, state which one you selected)\n",
        "\n",
        "( State what your test results are with the chosen method, parameters: e.g. \"We have obtained the best results with the ….. classifier (parameters=....) , giving classification accuracy of …% on test data….\"\"\n",
        "\n",
        "State if there is any **bonus** work...\n",
        "\n",
        "You will get full points from here as long as you have a good (enough) summary of your work, regardless of your best performance or what you have decided to talk about in the last few lines."
      ]
    },
    {
      "cell_type": "markdown",
      "metadata": {
        "id": "y-UJrkPnHHUy"
      },
      "source": [
        "  Problem is to test labels using training set. As a method we use KNN classifier. To validate our result we used cross validation. To handle the missing values I used mode imputation. Then i mapped the categorical features into numbers so that model can perform as it is supposed to. Avarage validation accuracies for cv = 5 for k = 5 is %68, for k = 10 it is %70.7499 and for k = 15 accuracy score was %71.001. Therefore i selected k = 15 for the best_knn model. And because k = 15 gave me the best result in training set, i also used k = 15 to predict test labels. When i used k = 15 i got %66.5 accuracy score on test label. As bonus work i tried to use different distance metrices in KNN but it did not change the overall accuracy.Then from 1 to 20 i tried different k values while predicting my test label. As a result i have seen that k = 10 provided me the best accuracy in predicting test label unlike the cross validation accuracies in part 7) which is a little above %68.5. Also in part 3) i used some methods to find more about datasets like df.describe()."
      ]
    },
    {
      "cell_type": "markdown",
      "metadata": {
        "id": "oaPs6f7mkiI0"
      },
      "source": [
        "# 11) Submission\n",
        "\n",
        "Please submit your **\"share link\" INLINE in Sucourse submissions**. That is we should be able to click on the link and go there and run (and possibly also modify) your code. \n",
        "\n",
        "For us to be able to modify, in case of errors etc, **you should get your \"share link\" as **share with anyone in edit mode** \n",
        "\n",
        " **Also submit your notebook as pdf as attachment**, choose print and save as PDF, save with hw2-lastname-firstname.pdf to facilitate grading. \n"
      ]
    }
  ]
}